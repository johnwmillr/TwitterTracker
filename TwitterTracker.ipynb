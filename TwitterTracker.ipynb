{
 "cells": [
  {
   "cell_type": "markdown",
   "metadata": {},
   "source": [
    "# TwitterTracker\n",
    "Monitor Twitter for mentions of given search terms"
   ]
  },
  {
   "cell_type": "code",
   "execution_count": 1,
   "metadata": {},
   "outputs": [],
   "source": [
    "import tweepy"
   ]
  },
  {
   "cell_type": "markdown",
   "metadata": {},
   "source": [
    "### Authentication"
   ]
  },
  {
   "cell_type": "code",
   "execution_count": 2,
   "metadata": {},
   "outputs": [],
   "source": [
    "credentials = {}\n",
    "with open('./secrets.txt', 'r') as infile:\n",
    "    for line in infile.readlines():\n",
    "        if \":\" in line:\n",
    "            key_val = line.split(': ',1)\n",
    "            credentials[key_val[0]] = key_val[1].strip()"
   ]
  },
  {
   "cell_type": "code",
   "execution_count": 3,
   "metadata": {},
   "outputs": [],
   "source": [
    "auth = tweepy.OAuthHandler(credentials['consumer_key'], credentials['consumer_secret'])\n",
    "auth.set_access_token(credentials['access_token'], credentials['access_token_secret'])\n",
    "api = tweepy.API(auth)"
   ]
  },
  {
   "cell_type": "markdown",
   "metadata": {},
   "source": [
    "### Start streaming Tweets"
   ]
  },
  {
   "cell_type": "code",
   "execution_count": 4,
   "metadata": {},
   "outputs": [],
   "source": [
    "class MyStreamListener(tweepy.StreamListener):\n",
    "    \n",
    "    def on_status(self, status):\n",
    "        print(status.text)"
   ]
  },
  {
   "cell_type": "code",
   "execution_count": 37,
   "metadata": {},
   "outputs": [],
   "source": [
    "myStreamListener = MyStreamListener()\n",
    "myStream = tweepy.Stream(auth=api.auth, listener=myStreamListener)"
   ]
  },
  {
   "cell_type": "code",
   "execution_count": 81,
   "metadata": {},
   "outputs": [],
   "source": [
    "myStream.disconnect()"
   ]
  },
  {
   "cell_type": "code",
   "execution_count": 82,
   "metadata": {
    "scrolled": true
   },
   "outputs": [
    {
     "name": "stdout",
     "output_type": "stream",
     "text": [
      "I just entered to win an #OffWhitePresto by subscribing to @RealSethFowler on YouTube! https://t.co/68NsOOQ91T\n",
      "RT @inoesasi: Buenas noches mis influencers, ¿ya son embajadores de Adidas o de Nike?\n",
      "RT @hectordeandam: Buenos días influencers, ya son embajadores y socios de nike o todavía no?\n",
      "RT @MayCabral4: q cosita lindas los conjuntos adidas y nike, aaaaa mil me compraría 😍❤😍❤😍❤😍❤😍❤\n",
      "RT @HotNewHipHop: John Elliott x @Nike LeBron Icon slated to release again on 9/1\n",
      "\n",
      "https://t.co/wrSVGQEhR8\n",
      "RT @sneaker_wars: 【海外9月8日発売予定】 アクロニウム × ナイキ エアプレスト ミッド 全3色\n",
      "⇒https://t.co/XxpgAyyFhr\n",
      "新たなカラーリングがスタンバイ中！\n",
      "#sneakerwars #スニーカー #NIKE https://t.c…\n",
      "RT @hectordeandam: Buenos días influencers, ya son embajadores y socios de nike o todavía no?\n",
      "RT @iiloveroupas: A Nike não brincar em serviço 😍 https://t.co/j9e5sUmBPP\n",
      "vou lançar um corta vento da Nike rosa, pesadão\n",
      "I just entered to win an #OffWhitePresto by subscribing to @RealSethFowler on YouTube! https://t.co/PzqdFgHTio\n",
      "I just entered to win an #OffWhitePresto by subscribing to @RealSethFowler on YouTube! https://t.co/KxI8DWefft\n",
      "I just entered to win an #OffWhitePresto by subscribing to @RealSethFowler on YouTube! https://t.co/DOp3NMFJQ8\n",
      "RT @Psyched55: @dbert_official @realDonaldTrump I don't know too many minimum wage earners who's employers offer any kind of retirement acc…\n",
      "RT @sneaker_wars: 【海外9月8日発売予定】 アクロニウム × ナイキ エアプレスト ミッド 全3色\n",
      "⇒https://t.co/XxpgAyyFhr\n",
      "新たなカラーリングがスタンバイ中！\n",
      "#sneakerwars #スニーカー #NIKE https://t.c…\n",
      "RT @brkicks: Another look at the Nike LeBron 16 from @KingJames 👀 https://t.co/dAmjRxAAwa\n",
      "RT @JesseCox: As a collector of Air Force 1s.... my soul has left my body. It's gone. I'm watching it float away.  Goodbye soul.  My Blizzc…\n",
      "RT @hectordeandam: Buenos días influencers, ya son embajadores y socios de nike o todavía no?\n",
      "RT @leodrogado: Cuando todos se ríen de ti en Instagram por compartir la imagen de “embajadores Adidas y Nike” y quedar como un imbecil. ht…\n",
      "RT @GalsOutfit: Can't say No to Nike😭😭😍😍‼️ https://t.co/RiMvDUk6ch\n",
      "RT @GradickSports: #OhioState HC Urban Meyer has been suspended 3 games. \n",
      "\n",
      "🏈Todd Gurley was suspended 4 games in 2014 for selling autograph…\n"
     ]
    },
    {
     "ename": "KeyboardInterrupt",
     "evalue": "",
     "output_type": "error",
     "traceback": [
      "\u001b[0;31m---------------------------------------------------------------------------\u001b[0m",
      "\u001b[0;31mKeyboardInterrupt\u001b[0m                         Traceback (most recent call last)",
      "\u001b[0;32m<ipython-input-82-bc0f54a48e40>\u001b[0m in \u001b[0;36m<module>\u001b[0;34m()\u001b[0m\n\u001b[1;32m      1\u001b[0m \u001b[0;31m# myStream.filter(track=['NIKEiD', 'nikeid', 'NikeID'], async=False)\u001b[0m\u001b[0;34m\u001b[0m\u001b[0;34m\u001b[0m\u001b[0m\n\u001b[0;32m----> 2\u001b[0;31m \u001b[0mmyStream\u001b[0m\u001b[0;34m.\u001b[0m\u001b[0mfilter\u001b[0m\u001b[0;34m(\u001b[0m\u001b[0mtrack\u001b[0m\u001b[0;34m=\u001b[0m\u001b[0;34m[\u001b[0m\u001b[0;34m'nike'\u001b[0m\u001b[0;34m]\u001b[0m\u001b[0;34m,\u001b[0m \u001b[0masync\u001b[0m\u001b[0;34m=\u001b[0m\u001b[0;32mFalse\u001b[0m\u001b[0;34m)\u001b[0m\u001b[0;34m\u001b[0m\u001b[0m\n\u001b[0m",
      "\u001b[0;32m~/Projects/TwitterTracker/lib/python3.6/site-packages/tweepy/streaming.py\u001b[0m in \u001b[0;36mfilter\u001b[0;34m(self, follow, track, async, locations, stall_warnings, languages, encoding, filter_level)\u001b[0m\n\u001b[1;32m    448\u001b[0m         \u001b[0mself\u001b[0m\u001b[0;34m.\u001b[0m\u001b[0msession\u001b[0m\u001b[0;34m.\u001b[0m\u001b[0mparams\u001b[0m \u001b[0;34m=\u001b[0m \u001b[0;34m{\u001b[0m\u001b[0;34m'delimited'\u001b[0m\u001b[0;34m:\u001b[0m \u001b[0;34m'length'\u001b[0m\u001b[0;34m}\u001b[0m\u001b[0;34m\u001b[0m\u001b[0m\n\u001b[1;32m    449\u001b[0m         \u001b[0mself\u001b[0m\u001b[0;34m.\u001b[0m\u001b[0mhost\u001b[0m \u001b[0;34m=\u001b[0m \u001b[0;34m'stream.twitter.com'\u001b[0m\u001b[0;34m\u001b[0m\u001b[0m\n\u001b[0;32m--> 450\u001b[0;31m         \u001b[0mself\u001b[0m\u001b[0;34m.\u001b[0m\u001b[0m_start\u001b[0m\u001b[0;34m(\u001b[0m\u001b[0masync\u001b[0m\u001b[0;34m)\u001b[0m\u001b[0;34m\u001b[0m\u001b[0m\n\u001b[0m\u001b[1;32m    451\u001b[0m \u001b[0;34m\u001b[0m\u001b[0m\n\u001b[1;32m    452\u001b[0m     def sitestream(self, follow, stall_warnings=False,\n",
      "\u001b[0;32m~/Projects/TwitterTracker/lib/python3.6/site-packages/tweepy/streaming.py\u001b[0m in \u001b[0;36m_start\u001b[0;34m(self, async)\u001b[0m\n\u001b[1;32m    362\u001b[0m             \u001b[0mself\u001b[0m\u001b[0;34m.\u001b[0m\u001b[0m_thread\u001b[0m\u001b[0;34m.\u001b[0m\u001b[0mstart\u001b[0m\u001b[0;34m(\u001b[0m\u001b[0;34m)\u001b[0m\u001b[0;34m\u001b[0m\u001b[0m\n\u001b[1;32m    363\u001b[0m         \u001b[0;32melse\u001b[0m\u001b[0;34m:\u001b[0m\u001b[0;34m\u001b[0m\u001b[0m\n\u001b[0;32m--> 364\u001b[0;31m             \u001b[0mself\u001b[0m\u001b[0;34m.\u001b[0m\u001b[0m_run\u001b[0m\u001b[0;34m(\u001b[0m\u001b[0;34m)\u001b[0m\u001b[0;34m\u001b[0m\u001b[0m\n\u001b[0m\u001b[1;32m    365\u001b[0m \u001b[0;34m\u001b[0m\u001b[0m\n\u001b[1;32m    366\u001b[0m     \u001b[0;32mdef\u001b[0m \u001b[0mon_closed\u001b[0m\u001b[0;34m(\u001b[0m\u001b[0mself\u001b[0m\u001b[0;34m,\u001b[0m \u001b[0mresp\u001b[0m\u001b[0;34m)\u001b[0m\u001b[0;34m:\u001b[0m\u001b[0;34m\u001b[0m\u001b[0m\n",
      "\u001b[0;32m~/Projects/TwitterTracker/lib/python3.6/site-packages/tweepy/streaming.py\u001b[0m in \u001b[0;36m_run\u001b[0;34m(self)\u001b[0m\n\u001b[1;32m    264\u001b[0m                     \u001b[0mself\u001b[0m\u001b[0;34m.\u001b[0m\u001b[0msnooze_time\u001b[0m \u001b[0;34m=\u001b[0m \u001b[0mself\u001b[0m\u001b[0;34m.\u001b[0m\u001b[0msnooze_time_step\u001b[0m\u001b[0;34m\u001b[0m\u001b[0m\n\u001b[1;32m    265\u001b[0m                     \u001b[0mself\u001b[0m\u001b[0;34m.\u001b[0m\u001b[0mlistener\u001b[0m\u001b[0;34m.\u001b[0m\u001b[0mon_connect\u001b[0m\u001b[0;34m(\u001b[0m\u001b[0;34m)\u001b[0m\u001b[0;34m\u001b[0m\u001b[0m\n\u001b[0;32m--> 266\u001b[0;31m                     \u001b[0mself\u001b[0m\u001b[0;34m.\u001b[0m\u001b[0m_read_loop\u001b[0m\u001b[0;34m(\u001b[0m\u001b[0mresp\u001b[0m\u001b[0;34m)\u001b[0m\u001b[0;34m\u001b[0m\u001b[0m\n\u001b[0m\u001b[1;32m    267\u001b[0m             \u001b[0;32mexcept\u001b[0m \u001b[0;34m(\u001b[0m\u001b[0mTimeout\u001b[0m\u001b[0;34m,\u001b[0m \u001b[0mssl\u001b[0m\u001b[0;34m.\u001b[0m\u001b[0mSSLError\u001b[0m\u001b[0;34m)\u001b[0m \u001b[0;32mas\u001b[0m \u001b[0mexc\u001b[0m\u001b[0;34m:\u001b[0m\u001b[0;34m\u001b[0m\u001b[0m\n\u001b[1;32m    268\u001b[0m                 \u001b[0;31m# This is still necessary, as a SSLError can actually be\u001b[0m\u001b[0;34m\u001b[0m\u001b[0;34m\u001b[0m\u001b[0m\n",
      "\u001b[0;32m~/Projects/TwitterTracker/lib/python3.6/site-packages/tweepy/streaming.py\u001b[0m in \u001b[0;36m_read_loop\u001b[0;34m(self, resp)\u001b[0m\n\u001b[1;32m    314\u001b[0m             \u001b[0mlength\u001b[0m \u001b[0;34m=\u001b[0m \u001b[0;36m0\u001b[0m\u001b[0;34m\u001b[0m\u001b[0m\n\u001b[1;32m    315\u001b[0m             \u001b[0;32mwhile\u001b[0m \u001b[0;32mnot\u001b[0m \u001b[0mresp\u001b[0m\u001b[0;34m.\u001b[0m\u001b[0mraw\u001b[0m\u001b[0;34m.\u001b[0m\u001b[0mclosed\u001b[0m\u001b[0;34m:\u001b[0m\u001b[0;34m\u001b[0m\u001b[0m\n\u001b[0;32m--> 316\u001b[0;31m                 \u001b[0mline\u001b[0m \u001b[0;34m=\u001b[0m \u001b[0mbuf\u001b[0m\u001b[0;34m.\u001b[0m\u001b[0mread_line\u001b[0m\u001b[0;34m(\u001b[0m\u001b[0;34m)\u001b[0m\u001b[0;34m.\u001b[0m\u001b[0mstrip\u001b[0m\u001b[0;34m(\u001b[0m\u001b[0;34m)\u001b[0m\u001b[0;34m\u001b[0m\u001b[0m\n\u001b[0m\u001b[1;32m    317\u001b[0m                 \u001b[0;32mif\u001b[0m \u001b[0;32mnot\u001b[0m \u001b[0mline\u001b[0m\u001b[0;34m:\u001b[0m\u001b[0;34m\u001b[0m\u001b[0m\n\u001b[1;32m    318\u001b[0m                     \u001b[0mself\u001b[0m\u001b[0;34m.\u001b[0m\u001b[0mlistener\u001b[0m\u001b[0;34m.\u001b[0m\u001b[0mkeep_alive\u001b[0m\u001b[0;34m(\u001b[0m\u001b[0;34m)\u001b[0m  \u001b[0;31m# keep-alive new lines are expected\u001b[0m\u001b[0;34m\u001b[0m\u001b[0m\n",
      "\u001b[0;32m~/Projects/TwitterTracker/lib/python3.6/site-packages/tweepy/streaming.py\u001b[0m in \u001b[0;36mread_line\u001b[0;34m(self, sep)\u001b[0m\n\u001b[1;32m    179\u001b[0m             \u001b[0;32melse\u001b[0m\u001b[0;34m:\u001b[0m\u001b[0;34m\u001b[0m\u001b[0m\n\u001b[1;32m    180\u001b[0m                 \u001b[0mstart\u001b[0m \u001b[0;34m=\u001b[0m \u001b[0mlen\u001b[0m\u001b[0;34m(\u001b[0m\u001b[0mself\u001b[0m\u001b[0;34m.\u001b[0m\u001b[0m_buffer\u001b[0m\u001b[0;34m)\u001b[0m\u001b[0;34m\u001b[0m\u001b[0m\n\u001b[0;32m--> 181\u001b[0;31m             \u001b[0mself\u001b[0m\u001b[0;34m.\u001b[0m\u001b[0m_buffer\u001b[0m \u001b[0;34m+=\u001b[0m \u001b[0mself\u001b[0m\u001b[0;34m.\u001b[0m\u001b[0m_stream\u001b[0m\u001b[0;34m.\u001b[0m\u001b[0mread\u001b[0m\u001b[0;34m(\u001b[0m\u001b[0mself\u001b[0m\u001b[0;34m.\u001b[0m\u001b[0m_chunk_size\u001b[0m\u001b[0;34m)\u001b[0m\u001b[0;34m\u001b[0m\u001b[0m\n\u001b[0m\u001b[1;32m    182\u001b[0m         \u001b[0;32mreturn\u001b[0m \u001b[0msix\u001b[0m\u001b[0;34m.\u001b[0m\u001b[0mb\u001b[0m\u001b[0;34m(\u001b[0m\u001b[0;34m''\u001b[0m\u001b[0;34m)\u001b[0m\u001b[0;34m\u001b[0m\u001b[0m\n\u001b[1;32m    183\u001b[0m \u001b[0;34m\u001b[0m\u001b[0m\n",
      "\u001b[0;32m~/Projects/TwitterTracker/lib/python3.6/site-packages/urllib3/response.py\u001b[0m in \u001b[0;36mread\u001b[0;34m(self, amt, decode_content, cache_content)\u001b[0m\n\u001b[1;32m    411\u001b[0m             \u001b[0;32melse\u001b[0m\u001b[0;34m:\u001b[0m\u001b[0;34m\u001b[0m\u001b[0m\n\u001b[1;32m    412\u001b[0m                 \u001b[0mcache_content\u001b[0m \u001b[0;34m=\u001b[0m \u001b[0;32mFalse\u001b[0m\u001b[0;34m\u001b[0m\u001b[0m\n\u001b[0;32m--> 413\u001b[0;31m                 \u001b[0mdata\u001b[0m \u001b[0;34m=\u001b[0m \u001b[0mself\u001b[0m\u001b[0;34m.\u001b[0m\u001b[0m_fp\u001b[0m\u001b[0;34m.\u001b[0m\u001b[0mread\u001b[0m\u001b[0;34m(\u001b[0m\u001b[0mamt\u001b[0m\u001b[0;34m)\u001b[0m\u001b[0;34m\u001b[0m\u001b[0m\n\u001b[0m\u001b[1;32m    414\u001b[0m                 \u001b[0;32mif\u001b[0m \u001b[0mamt\u001b[0m \u001b[0;34m!=\u001b[0m \u001b[0;36m0\u001b[0m \u001b[0;32mand\u001b[0m \u001b[0;32mnot\u001b[0m \u001b[0mdata\u001b[0m\u001b[0;34m:\u001b[0m  \u001b[0;31m# Platform-specific: Buggy versions of Python.\u001b[0m\u001b[0;34m\u001b[0m\u001b[0m\n\u001b[1;32m    415\u001b[0m                     \u001b[0;31m# Close the connection when no data is returned\u001b[0m\u001b[0;34m\u001b[0m\u001b[0;34m\u001b[0m\u001b[0m\n",
      "\u001b[0;32m/usr/local/Cellar/python/3.6.5/Frameworks/Python.framework/Versions/3.6/lib/python3.6/http/client.py\u001b[0m in \u001b[0;36mread\u001b[0;34m(self, amt)\u001b[0m\n\u001b[1;32m    447\u001b[0m             \u001b[0;31m# Amount is given, implement using readinto\u001b[0m\u001b[0;34m\u001b[0m\u001b[0;34m\u001b[0m\u001b[0m\n\u001b[1;32m    448\u001b[0m             \u001b[0mb\u001b[0m \u001b[0;34m=\u001b[0m \u001b[0mbytearray\u001b[0m\u001b[0;34m(\u001b[0m\u001b[0mamt\u001b[0m\u001b[0;34m)\u001b[0m\u001b[0;34m\u001b[0m\u001b[0m\n\u001b[0;32m--> 449\u001b[0;31m             \u001b[0mn\u001b[0m \u001b[0;34m=\u001b[0m \u001b[0mself\u001b[0m\u001b[0;34m.\u001b[0m\u001b[0mreadinto\u001b[0m\u001b[0;34m(\u001b[0m\u001b[0mb\u001b[0m\u001b[0;34m)\u001b[0m\u001b[0;34m\u001b[0m\u001b[0m\n\u001b[0m\u001b[1;32m    450\u001b[0m             \u001b[0;32mreturn\u001b[0m \u001b[0mmemoryview\u001b[0m\u001b[0;34m(\u001b[0m\u001b[0mb\u001b[0m\u001b[0;34m)\u001b[0m\u001b[0;34m[\u001b[0m\u001b[0;34m:\u001b[0m\u001b[0mn\u001b[0m\u001b[0;34m]\u001b[0m\u001b[0;34m.\u001b[0m\u001b[0mtobytes\u001b[0m\u001b[0;34m(\u001b[0m\u001b[0;34m)\u001b[0m\u001b[0;34m\u001b[0m\u001b[0m\n\u001b[1;32m    451\u001b[0m         \u001b[0;32melse\u001b[0m\u001b[0;34m:\u001b[0m\u001b[0;34m\u001b[0m\u001b[0m\n",
      "\u001b[0;32m/usr/local/Cellar/python/3.6.5/Frameworks/Python.framework/Versions/3.6/lib/python3.6/http/client.py\u001b[0m in \u001b[0;36mreadinto\u001b[0;34m(self, b)\u001b[0m\n\u001b[1;32m    481\u001b[0m \u001b[0;34m\u001b[0m\u001b[0m\n\u001b[1;32m    482\u001b[0m         \u001b[0;32mif\u001b[0m \u001b[0mself\u001b[0m\u001b[0;34m.\u001b[0m\u001b[0mchunked\u001b[0m\u001b[0;34m:\u001b[0m\u001b[0;34m\u001b[0m\u001b[0m\n\u001b[0;32m--> 483\u001b[0;31m             \u001b[0;32mreturn\u001b[0m \u001b[0mself\u001b[0m\u001b[0;34m.\u001b[0m\u001b[0m_readinto_chunked\u001b[0m\u001b[0;34m(\u001b[0m\u001b[0mb\u001b[0m\u001b[0;34m)\u001b[0m\u001b[0;34m\u001b[0m\u001b[0m\n\u001b[0m\u001b[1;32m    484\u001b[0m \u001b[0;34m\u001b[0m\u001b[0m\n\u001b[1;32m    485\u001b[0m         \u001b[0;32mif\u001b[0m \u001b[0mself\u001b[0m\u001b[0;34m.\u001b[0m\u001b[0mlength\u001b[0m \u001b[0;32mis\u001b[0m \u001b[0;32mnot\u001b[0m \u001b[0;32mNone\u001b[0m\u001b[0;34m:\u001b[0m\u001b[0;34m\u001b[0m\u001b[0m\n",
      "\u001b[0;32m/usr/local/Cellar/python/3.6.5/Frameworks/Python.framework/Versions/3.6/lib/python3.6/http/client.py\u001b[0m in \u001b[0;36m_readinto_chunked\u001b[0;34m(self, b)\u001b[0m\n\u001b[1;32m    576\u001b[0m         \u001b[0;32mtry\u001b[0m\u001b[0;34m:\u001b[0m\u001b[0;34m\u001b[0m\u001b[0m\n\u001b[1;32m    577\u001b[0m             \u001b[0;32mwhile\u001b[0m \u001b[0;32mTrue\u001b[0m\u001b[0;34m:\u001b[0m\u001b[0;34m\u001b[0m\u001b[0m\n\u001b[0;32m--> 578\u001b[0;31m                 \u001b[0mchunk_left\u001b[0m \u001b[0;34m=\u001b[0m \u001b[0mself\u001b[0m\u001b[0;34m.\u001b[0m\u001b[0m_get_chunk_left\u001b[0m\u001b[0;34m(\u001b[0m\u001b[0;34m)\u001b[0m\u001b[0;34m\u001b[0m\u001b[0m\n\u001b[0m\u001b[1;32m    579\u001b[0m                 \u001b[0;32mif\u001b[0m \u001b[0mchunk_left\u001b[0m \u001b[0;32mis\u001b[0m \u001b[0;32mNone\u001b[0m\u001b[0;34m:\u001b[0m\u001b[0;34m\u001b[0m\u001b[0m\n\u001b[1;32m    580\u001b[0m                     \u001b[0;32mreturn\u001b[0m \u001b[0mtotal_bytes\u001b[0m\u001b[0;34m\u001b[0m\u001b[0m\n",
      "\u001b[0;32m/usr/local/Cellar/python/3.6.5/Frameworks/Python.framework/Versions/3.6/lib/python3.6/http/client.py\u001b[0m in \u001b[0;36m_get_chunk_left\u001b[0;34m(self)\u001b[0m\n\u001b[1;32m    544\u001b[0m                 \u001b[0mself\u001b[0m\u001b[0;34m.\u001b[0m\u001b[0m_safe_read\u001b[0m\u001b[0;34m(\u001b[0m\u001b[0;36m2\u001b[0m\u001b[0;34m)\u001b[0m  \u001b[0;31m# toss the CRLF at the end of the chunk\u001b[0m\u001b[0;34m\u001b[0m\u001b[0m\n\u001b[1;32m    545\u001b[0m             \u001b[0;32mtry\u001b[0m\u001b[0;34m:\u001b[0m\u001b[0;34m\u001b[0m\u001b[0m\n\u001b[0;32m--> 546\u001b[0;31m                 \u001b[0mchunk_left\u001b[0m \u001b[0;34m=\u001b[0m \u001b[0mself\u001b[0m\u001b[0;34m.\u001b[0m\u001b[0m_read_next_chunk_size\u001b[0m\u001b[0;34m(\u001b[0m\u001b[0;34m)\u001b[0m\u001b[0;34m\u001b[0m\u001b[0m\n\u001b[0m\u001b[1;32m    547\u001b[0m             \u001b[0;32mexcept\u001b[0m \u001b[0mValueError\u001b[0m\u001b[0;34m:\u001b[0m\u001b[0;34m\u001b[0m\u001b[0m\n\u001b[1;32m    548\u001b[0m                 \u001b[0;32mraise\u001b[0m \u001b[0mIncompleteRead\u001b[0m\u001b[0;34m(\u001b[0m\u001b[0;34mb''\u001b[0m\u001b[0;34m)\u001b[0m\u001b[0;34m\u001b[0m\u001b[0m\n",
      "\u001b[0;32m/usr/local/Cellar/python/3.6.5/Frameworks/Python.framework/Versions/3.6/lib/python3.6/http/client.py\u001b[0m in \u001b[0;36m_read_next_chunk_size\u001b[0;34m(self)\u001b[0m\n\u001b[1;32m    504\u001b[0m     \u001b[0;32mdef\u001b[0m \u001b[0m_read_next_chunk_size\u001b[0m\u001b[0;34m(\u001b[0m\u001b[0mself\u001b[0m\u001b[0;34m)\u001b[0m\u001b[0;34m:\u001b[0m\u001b[0;34m\u001b[0m\u001b[0m\n\u001b[1;32m    505\u001b[0m         \u001b[0;31m# Read the next chunk size from the file\u001b[0m\u001b[0;34m\u001b[0m\u001b[0;34m\u001b[0m\u001b[0m\n\u001b[0;32m--> 506\u001b[0;31m         \u001b[0mline\u001b[0m \u001b[0;34m=\u001b[0m \u001b[0mself\u001b[0m\u001b[0;34m.\u001b[0m\u001b[0mfp\u001b[0m\u001b[0;34m.\u001b[0m\u001b[0mreadline\u001b[0m\u001b[0;34m(\u001b[0m\u001b[0m_MAXLINE\u001b[0m \u001b[0;34m+\u001b[0m \u001b[0;36m1\u001b[0m\u001b[0;34m)\u001b[0m\u001b[0;34m\u001b[0m\u001b[0m\n\u001b[0m\u001b[1;32m    507\u001b[0m         \u001b[0;32mif\u001b[0m \u001b[0mlen\u001b[0m\u001b[0;34m(\u001b[0m\u001b[0mline\u001b[0m\u001b[0;34m)\u001b[0m \u001b[0;34m>\u001b[0m \u001b[0m_MAXLINE\u001b[0m\u001b[0;34m:\u001b[0m\u001b[0;34m\u001b[0m\u001b[0m\n\u001b[1;32m    508\u001b[0m             \u001b[0;32mraise\u001b[0m \u001b[0mLineTooLong\u001b[0m\u001b[0;34m(\u001b[0m\u001b[0;34m\"chunk size\"\u001b[0m\u001b[0;34m)\u001b[0m\u001b[0;34m\u001b[0m\u001b[0m\n",
      "\u001b[0;32m/usr/local/Cellar/python/3.6.5/Frameworks/Python.framework/Versions/3.6/lib/python3.6/socket.py\u001b[0m in \u001b[0;36mreadinto\u001b[0;34m(self, b)\u001b[0m\n\u001b[1;32m    584\u001b[0m         \u001b[0;32mwhile\u001b[0m \u001b[0;32mTrue\u001b[0m\u001b[0;34m:\u001b[0m\u001b[0;34m\u001b[0m\u001b[0m\n\u001b[1;32m    585\u001b[0m             \u001b[0;32mtry\u001b[0m\u001b[0;34m:\u001b[0m\u001b[0;34m\u001b[0m\u001b[0m\n\u001b[0;32m--> 586\u001b[0;31m                 \u001b[0;32mreturn\u001b[0m \u001b[0mself\u001b[0m\u001b[0;34m.\u001b[0m\u001b[0m_sock\u001b[0m\u001b[0;34m.\u001b[0m\u001b[0mrecv_into\u001b[0m\u001b[0;34m(\u001b[0m\u001b[0mb\u001b[0m\u001b[0;34m)\u001b[0m\u001b[0;34m\u001b[0m\u001b[0m\n\u001b[0m\u001b[1;32m    587\u001b[0m             \u001b[0;32mexcept\u001b[0m \u001b[0mtimeout\u001b[0m\u001b[0;34m:\u001b[0m\u001b[0;34m\u001b[0m\u001b[0m\n\u001b[1;32m    588\u001b[0m                 \u001b[0mself\u001b[0m\u001b[0;34m.\u001b[0m\u001b[0m_timeout_occurred\u001b[0m \u001b[0;34m=\u001b[0m \u001b[0;32mTrue\u001b[0m\u001b[0;34m\u001b[0m\u001b[0m\n",
      "\u001b[0;32m/usr/local/Cellar/python/3.6.5/Frameworks/Python.framework/Versions/3.6/lib/python3.6/ssl.py\u001b[0m in \u001b[0;36mrecv_into\u001b[0;34m(self, buffer, nbytes, flags)\u001b[0m\n\u001b[1;32m   1007\u001b[0m                   \u001b[0;34m\"non-zero flags not allowed in calls to recv_into() on %s\"\u001b[0m \u001b[0;34m%\u001b[0m\u001b[0;34m\u001b[0m\u001b[0m\n\u001b[1;32m   1008\u001b[0m                   self.__class__)\n\u001b[0;32m-> 1009\u001b[0;31m             \u001b[0;32mreturn\u001b[0m \u001b[0mself\u001b[0m\u001b[0;34m.\u001b[0m\u001b[0mread\u001b[0m\u001b[0;34m(\u001b[0m\u001b[0mnbytes\u001b[0m\u001b[0;34m,\u001b[0m \u001b[0mbuffer\u001b[0m\u001b[0;34m)\u001b[0m\u001b[0;34m\u001b[0m\u001b[0m\n\u001b[0m\u001b[1;32m   1010\u001b[0m         \u001b[0;32melse\u001b[0m\u001b[0;34m:\u001b[0m\u001b[0;34m\u001b[0m\u001b[0m\n\u001b[1;32m   1011\u001b[0m             \u001b[0;32mreturn\u001b[0m \u001b[0msocket\u001b[0m\u001b[0;34m.\u001b[0m\u001b[0mrecv_into\u001b[0m\u001b[0;34m(\u001b[0m\u001b[0mself\u001b[0m\u001b[0;34m,\u001b[0m \u001b[0mbuffer\u001b[0m\u001b[0;34m,\u001b[0m \u001b[0mnbytes\u001b[0m\u001b[0;34m,\u001b[0m \u001b[0mflags\u001b[0m\u001b[0;34m)\u001b[0m\u001b[0;34m\u001b[0m\u001b[0m\n",
      "\u001b[0;32m/usr/local/Cellar/python/3.6.5/Frameworks/Python.framework/Versions/3.6/lib/python3.6/ssl.py\u001b[0m in \u001b[0;36mread\u001b[0;34m(self, len, buffer)\u001b[0m\n\u001b[1;32m    869\u001b[0m             \u001b[0;32mraise\u001b[0m \u001b[0mValueError\u001b[0m\u001b[0;34m(\u001b[0m\u001b[0;34m\"Read on closed or unwrapped SSL socket.\"\u001b[0m\u001b[0;34m)\u001b[0m\u001b[0;34m\u001b[0m\u001b[0m\n\u001b[1;32m    870\u001b[0m         \u001b[0;32mtry\u001b[0m\u001b[0;34m:\u001b[0m\u001b[0;34m\u001b[0m\u001b[0m\n\u001b[0;32m--> 871\u001b[0;31m             \u001b[0;32mreturn\u001b[0m \u001b[0mself\u001b[0m\u001b[0;34m.\u001b[0m\u001b[0m_sslobj\u001b[0m\u001b[0;34m.\u001b[0m\u001b[0mread\u001b[0m\u001b[0;34m(\u001b[0m\u001b[0mlen\u001b[0m\u001b[0;34m,\u001b[0m \u001b[0mbuffer\u001b[0m\u001b[0;34m)\u001b[0m\u001b[0;34m\u001b[0m\u001b[0m\n\u001b[0m\u001b[1;32m    872\u001b[0m         \u001b[0;32mexcept\u001b[0m \u001b[0mSSLError\u001b[0m \u001b[0;32mas\u001b[0m \u001b[0mx\u001b[0m\u001b[0;34m:\u001b[0m\u001b[0;34m\u001b[0m\u001b[0m\n\u001b[1;32m    873\u001b[0m             \u001b[0;32mif\u001b[0m \u001b[0mx\u001b[0m\u001b[0;34m.\u001b[0m\u001b[0margs\u001b[0m\u001b[0;34m[\u001b[0m\u001b[0;36m0\u001b[0m\u001b[0;34m]\u001b[0m \u001b[0;34m==\u001b[0m \u001b[0mSSL_ERROR_EOF\u001b[0m \u001b[0;32mand\u001b[0m \u001b[0mself\u001b[0m\u001b[0;34m.\u001b[0m\u001b[0msuppress_ragged_eofs\u001b[0m\u001b[0;34m:\u001b[0m\u001b[0;34m\u001b[0m\u001b[0m\n",
      "\u001b[0;32m/usr/local/Cellar/python/3.6.5/Frameworks/Python.framework/Versions/3.6/lib/python3.6/ssl.py\u001b[0m in \u001b[0;36mread\u001b[0;34m(self, len, buffer)\u001b[0m\n\u001b[1;32m    629\u001b[0m         \"\"\"\n\u001b[1;32m    630\u001b[0m         \u001b[0;32mif\u001b[0m \u001b[0mbuffer\u001b[0m \u001b[0;32mis\u001b[0m \u001b[0;32mnot\u001b[0m \u001b[0;32mNone\u001b[0m\u001b[0;34m:\u001b[0m\u001b[0;34m\u001b[0m\u001b[0m\n\u001b[0;32m--> 631\u001b[0;31m             \u001b[0mv\u001b[0m \u001b[0;34m=\u001b[0m \u001b[0mself\u001b[0m\u001b[0;34m.\u001b[0m\u001b[0m_sslobj\u001b[0m\u001b[0;34m.\u001b[0m\u001b[0mread\u001b[0m\u001b[0;34m(\u001b[0m\u001b[0mlen\u001b[0m\u001b[0;34m,\u001b[0m \u001b[0mbuffer\u001b[0m\u001b[0;34m)\u001b[0m\u001b[0;34m\u001b[0m\u001b[0m\n\u001b[0m\u001b[1;32m    632\u001b[0m         \u001b[0;32melse\u001b[0m\u001b[0;34m:\u001b[0m\u001b[0;34m\u001b[0m\u001b[0m\n\u001b[1;32m    633\u001b[0m             \u001b[0mv\u001b[0m \u001b[0;34m=\u001b[0m \u001b[0mself\u001b[0m\u001b[0;34m.\u001b[0m\u001b[0m_sslobj\u001b[0m\u001b[0;34m.\u001b[0m\u001b[0mread\u001b[0m\u001b[0;34m(\u001b[0m\u001b[0mlen\u001b[0m\u001b[0;34m)\u001b[0m\u001b[0;34m\u001b[0m\u001b[0m\n",
      "\u001b[0;31mKeyboardInterrupt\u001b[0m: "
     ]
    }
   ],
   "source": [
    "# myStream.filter(track=['NIKEiD', 'nikeid', 'NikeID'], async=False)\n",
    "myStream.filter(track=['nike'], async=False)"
   ]
  },
  {
   "cell_type": "markdown",
   "metadata": {},
   "source": [
    "# Analyze the downloaded Tweets"
   ]
  },
  {
   "cell_type": "code",
   "execution_count": 1,
   "metadata": {},
   "outputs": [],
   "source": [
    "import json\n",
    "import numpy as np\n",
    "import pandas as pd"
   ]
  },
  {
   "cell_type": "code",
   "execution_count": 2,
   "metadata": {},
   "outputs": [
    {
     "data": {
      "text/html": [
       "<div>\n",
       "<style scoped>\n",
       "    .dataframe tbody tr th:only-of-type {\n",
       "        vertical-align: middle;\n",
       "    }\n",
       "\n",
       "    .dataframe tbody tr th {\n",
       "        vertical-align: top;\n",
       "    }\n",
       "\n",
       "    .dataframe thead th {\n",
       "        text-align: right;\n",
       "    }\n",
       "</style>\n",
       "<table border=\"1\" class=\"dataframe\">\n",
       "  <thead>\n",
       "    <tr style=\"text-align: right;\">\n",
       "      <th></th>\n",
       "      <th>contributors</th>\n",
       "      <th>coordinates</th>\n",
       "      <th>created_at</th>\n",
       "      <th>display_text_range</th>\n",
       "      <th>entities</th>\n",
       "      <th>extended_entities</th>\n",
       "      <th>extended_tweet</th>\n",
       "      <th>favorite_count</th>\n",
       "      <th>favorited</th>\n",
       "      <th>filter_level</th>\n",
       "      <th>...</th>\n",
       "      <th>reply_count</th>\n",
       "      <th>retweet_count</th>\n",
       "      <th>retweeted</th>\n",
       "      <th>retweeted_status</th>\n",
       "      <th>source</th>\n",
       "      <th>text</th>\n",
       "      <th>timestamp_ms</th>\n",
       "      <th>truncated</th>\n",
       "      <th>user</th>\n",
       "      <th>url</th>\n",
       "    </tr>\n",
       "  </thead>\n",
       "  <tbody>\n",
       "    <tr>\n",
       "      <th>0</th>\n",
       "      <td>NaN</td>\n",
       "      <td>None</td>\n",
       "      <td>2018-08-23 05:07:21</td>\n",
       "      <td>NaN</td>\n",
       "      <td>{'hashtags': [], 'urls': [], 'user_mentions': ...</td>\n",
       "      <td>NaN</td>\n",
       "      <td>NaN</td>\n",
       "      <td>0</td>\n",
       "      <td>False</td>\n",
       "      <td>low</td>\n",
       "      <td>...</td>\n",
       "      <td>0</td>\n",
       "      <td>0</td>\n",
       "      <td>False</td>\n",
       "      <td>{'created_at': 'Thu Aug 16 11:45:41 +0000 2018...</td>\n",
       "      <td>&lt;a href=\"http://twitter.com/download/android\" ...</td>\n",
       "      <td>RT @RING_KNOWS_RING: ブログ更新しました！\\n\\n\" NIKE KOBE...</td>\n",
       "      <td>2018-08-23 05:07:21.504</td>\n",
       "      <td>False</td>\n",
       "      <td>{'id': 4505070073, 'id_str': '4505070073', 'na...</td>\n",
       "      <td>https://twitter.com/RING_KNOWS_RING/status/103...</td>\n",
       "    </tr>\n",
       "    <tr>\n",
       "      <th>1</th>\n",
       "      <td>NaN</td>\n",
       "      <td>None</td>\n",
       "      <td>2018-08-23 05:54:42</td>\n",
       "      <td>NaN</td>\n",
       "      <td>{'hashtags': [], 'urls': [{'url': 'https://t.c...</td>\n",
       "      <td>{'media': [{'id': 1032223230294032385, 'id_str...</td>\n",
       "      <td>NaN</td>\n",
       "      <td>0</td>\n",
       "      <td>False</td>\n",
       "      <td>low</td>\n",
       "      <td>...</td>\n",
       "      <td>0</td>\n",
       "      <td>0</td>\n",
       "      <td>False</td>\n",
       "      <td>{'created_at': 'Wed Aug 22 11:14:04 +0000 2018...</td>\n",
       "      <td>&lt;a href=\"http://twitter.com/download/android\" ...</td>\n",
       "      <td>RT @koheisblog: 柏レイソル\\nFW クリスティアーノ 選手\\n『NIKEiD...</td>\n",
       "      <td>2018-08-23 05:54:42.390</td>\n",
       "      <td>False</td>\n",
       "      <td>{'id': 958656259237949440, 'id_str': '95865625...</td>\n",
       "      <td>https://twitter.com/q3o9IaPXU6vhRQU/status/103...</td>\n",
       "    </tr>\n",
       "  </tbody>\n",
       "</table>\n",
       "<p>2 rows × 37 columns</p>\n",
       "</div>"
      ],
      "text/plain": [
       "   contributors coordinates          created_at display_text_range  \\\n",
       "0           NaN        None 2018-08-23 05:07:21                NaN   \n",
       "1           NaN        None 2018-08-23 05:54:42                NaN   \n",
       "\n",
       "                                            entities  \\\n",
       "0  {'hashtags': [], 'urls': [], 'user_mentions': ...   \n",
       "1  {'hashtags': [], 'urls': [{'url': 'https://t.c...   \n",
       "\n",
       "                                   extended_entities extended_tweet  \\\n",
       "0                                                NaN            NaN   \n",
       "1  {'media': [{'id': 1032223230294032385, 'id_str...            NaN   \n",
       "\n",
       "   favorite_count  favorited filter_level  \\\n",
       "0               0      False          low   \n",
       "1               0      False          low   \n",
       "\n",
       "                         ...                         reply_count  \\\n",
       "0                        ...                                   0   \n",
       "1                        ...                                   0   \n",
       "\n",
       "   retweet_count  retweeted  \\\n",
       "0              0      False   \n",
       "1              0      False   \n",
       "\n",
       "                                    retweeted_status  \\\n",
       "0  {'created_at': 'Thu Aug 16 11:45:41 +0000 2018...   \n",
       "1  {'created_at': 'Wed Aug 22 11:14:04 +0000 2018...   \n",
       "\n",
       "                                              source  \\\n",
       "0  <a href=\"http://twitter.com/download/android\" ...   \n",
       "1  <a href=\"http://twitter.com/download/android\" ...   \n",
       "\n",
       "                                                text            timestamp_ms  \\\n",
       "0  RT @RING_KNOWS_RING: ブログ更新しました！\\n\\n\" NIKE KOBE... 2018-08-23 05:07:21.504   \n",
       "1  RT @koheisblog: 柏レイソル\\nFW クリスティアーノ 選手\\n『NIKEiD... 2018-08-23 05:54:42.390   \n",
       "\n",
       "   truncated                                               user  \\\n",
       "0      False  {'id': 4505070073, 'id_str': '4505070073', 'na...   \n",
       "1      False  {'id': 958656259237949440, 'id_str': '95865625...   \n",
       "\n",
       "                                                 url  \n",
       "0  https://twitter.com/RING_KNOWS_RING/status/103...  \n",
       "1  https://twitter.com/q3o9IaPXU6vhRQU/status/103...  \n",
       "\n",
       "[2 rows x 37 columns]"
      ]
     },
     "execution_count": 2,
     "metadata": {},
     "output_type": "execute_result"
    }
   ],
   "source": [
    "# Load the Tweets\n",
    "with open('./nike_tweets.json', 'r') as infile:\n",
    "    raw = infile.readlines()\n",
    "data = [json.loads(line) for line in raw if line != '\\n']\n",
    "del(data[219]) # Kludge for bad data\n",
    "\n",
    "# Resave the Tweets in proper JSON format\n",
    "with open('./nike_tweets_json.json', 'w') as outfile:\n",
    "    json.dump(data, outfile)\n",
    "    \n",
    "# Reload the Tweets as a Pandas dataframe\n",
    "tweets = pd.read_json('./nike_tweets_json.json')\n",
    "\n",
    "# Add direct Tweet link to DF\n",
    "def getTweetUrl(tweet):\n",
    "    \"\"\"Returns the URL to a Tweet\"\"\"\n",
    "    root = 'https://twitter.com/{name}/status/{id_}'\n",
    "    return root.format(name=tweet['user']['screen_name'], id_=tweet['id'])\n",
    "urls = []\n",
    "for i in range(len(tweets)):\n",
    "    urls.append(getTweetUrl(tweets.loc[i])) # Probably not the best way\n",
    "tweets['url'] = urls\n",
    "\n",
    "tweets.head(2)"
   ]
  },
  {
   "cell_type": "markdown",
   "metadata": {},
   "source": [
    "## Sentiment analysis"
   ]
  },
  {
   "cell_type": "code",
   "execution_count": 4,
   "metadata": {},
   "outputs": [],
   "source": [
    "import re\n",
    "from textblob import TextBlob"
   ]
  },
  {
   "cell_type": "code",
   "execution_count": 5,
   "metadata": {},
   "outputs": [],
   "source": [
    "# https://www.geeksforgeeks.org/twitter-sentiment-analysis-using-python/\n",
    "def clean_tweet(tweet):\n",
    "    '''\n",
    "    Utility function to clean tweet text by removing links, special characters\n",
    "    using simple regex statements.\n",
    "    '''\n",
    "    return ' '.join(re.sub(\"(@[A-Za-z0-9]+)|([^0-9A-Za-z \\t])|(\\w+:\\/\\/\\S+)\", \" \", tweet).split())\n",
    "\n",
    "def get_tweet_sentiment(tweet_text):\n",
    "    '''\n",
    "    Utility function to classify sentiment of passed tweet\n",
    "    using textblob's sentiment method\n",
    "    '''\n",
    "    # create TextBlob object of passed tweet text\n",
    "    analysis = TextBlob(clean_tweet(tweet_text))\n",
    "    score = analysis.sentiment.polarity\n",
    "\n",
    "    # Return sentiment score and category\n",
    "    if score > 0:\n",
    "        return score, 'positive'\n",
    "    elif score == 0:\n",
    "        return score, 'neutral'\n",
    "    else:\n",
    "        return score, 'negative'"
   ]
  },
  {
   "cell_type": "markdown",
   "metadata": {},
   "source": [
    "### Add sentiment scores to the Data Frame"
   ]
  },
  {
   "cell_type": "code",
   "execution_count": 6,
   "metadata": {},
   "outputs": [],
   "source": [
    "scores = np.zeros(len(tweets))\n",
    "sentiments = []\n",
    "for i in range(len(tweets)):\n",
    "    score, sentiment = get_tweet_sentiment(tweets.loc[i]['text'])\n",
    "    scores[i] = score\n",
    "    sentiments.append(sentiment)\n",
    "    \n",
    "tweets['sentiment_score'] = scores\n",
    "tweets['sentiment'] = sentiments"
   ]
  },
  {
   "cell_type": "code",
   "execution_count": 7,
   "metadata": {
    "scrolled": true
   },
   "outputs": [
    {
     "name": "stdout",
     "output_type": "stream",
     "text": [
      "------------------------------------------------------------\n",
      "Nike ID Kobe Bryant XI 11 BLACK GOLD FTB 10.5 asg multicolor nikeid https://t.co/hvtMOTv2K8\n",
      "56\n",
      "https://twitter.com/BlogForTheCause/status/1032806248767528960\n",
      "------------------------------------------------------------\n",
      "NikeID is a scam, they have the worst colors to choose from. 😩\n",
      "74\n",
      "https://twitter.com/mduzzzy/status/1032844079581806592\n",
      "------------------------------------------------------------\n",
      "My 1st NIKEiD fail. My ugly babies..\n",
      "@Nike https://t.co/7OsxheKkAQ\n",
      "90\n",
      "https://twitter.com/MoonPi_/status/1032964235276550145\n",
      "------------------------------------------------------------\n",
      "I AM OBSESSED 😍😍 #nikeid @Nike https://t.co/NqvuYwrHS2\n",
      "122\n",
      "https://twitter.com/windmi11s/status/1033055189102735362\n",
      "------------------------------------------------------------\n",
      "NIKEiD AIR MAX 'KISS MY AIRS' NEW BLACK/MULTICOLOR [ 940379-991 ] US MEN SZ 9 https://t.co/kZb5itgYjX\n",
      "132\n",
      "https://twitter.com/FastSneakers/status/1033082287687053312\n",
      "------------------------------------------------------------\n",
      "NIKEiD AIR MAX 'KISS MY AIRS' NEW BLACK/MULTICOLOR [ 940379-991 ] US MEN SZ 9 https://t.co/qse1UItEK2\n",
      "135\n",
      "https://twitter.com/RehabCenters_MA/status/1033083222832427008\n",
      "------------------------------------------------------------\n",
      "NIKEiD LEBRON SOLDIER X 'D ROCK' NEW BLACK/GOLD [ 885682-991 ] US MEN SZ 9.5 https://t.co/WAmVcYtuwA\n",
      "141\n",
      "https://twitter.com/RehabCenters_MA/status/1033085715830263809\n",
      "------------------------------------------------------------\n",
      "I just discovered this on Poshmark: NWT NikeID Zoom Pegasus 34 Grey Pink WMNS. https://t.co/iw6s86i2rd via @poshmarkapp\n",
      "191\n",
      "https://twitter.com/geick_nikki/status/1033327975310143488\n",
      "------------------------------------------------------------\n",
      "It's so hard to choose what shoe to select to customize 😭😭 why make it so difficult ? @NIKEiD 😂😂 https://t.co/4q2nw7OiCs\n",
      "192\n",
      "https://twitter.com/speeddemon1017/status/1033328318345555968\n",
      "------------------------------------------------------------\n",
      "RT @nikefootball: Change the game in signature style.\n",
      "\n",
      "Showcase your creativity with the @NIKEiD #Magista: https://t.co/JwleBhjjPC\n",
      "https://…\n",
      "195\n",
      "https://twitter.com/SavageKindly/status/1033343691266682880\n",
      "------------------------------------------------------------\n",
      "dunks not on nikeid no more 😤😤😤😤\n",
      "203\n",
      "https://twitter.com/jawny/status/1033367723349299200\n",
      "------------------------------------------------------------\n",
      "nike nikeid air max 1 id 2006 public Size 13.0 studio \"nick slick\" og shape https://t.co/qmIc2AsGK1\n",
      "238\n",
      "https://twitter.com/theAmazonChef/status/1033705571130720261\n",
      "------------------------------------------------------------\n",
      "@SW7_Cab Probably not - have always been a sneakerhead though. Has to be Nike. Just got frustrated that I couldn't… https://t.co/gIlowPR1Oy\n",
      "241\n",
      "https://twitter.com/iamezekiel1_14/status/1033714929210191872\n",
      "------------------------------------------------------------\n",
      "Nike Bailey 368655 991 2008 Blue Black White 11.5 NIKEiD 24 Custom https://t.co/vNgPQo9seM\n",
      "244\n",
      "https://twitter.com/GreatBossMoves/status/1033729739574398977\n",
      "------------------------------------------------------------\n",
      "2009 Nike Zoom Kobe IV 4 Triple Black 368655-991 Mens 9.5 US NIKEID custom https://t.co/jGOiFPjpKv\n",
      "265\n",
      "https://twitter.com/RehabCenters_MA/status/1033783106300530690\n",
      "------------------------------------------------------------\n",
      "Mens NikeID Kobe IX 9 Elite Red/Gold/Black Size 10.5, New ID https://t.co/LtRzzkU1hQ\n",
      "273\n",
      "https://twitter.com/CycleBoyCyle/status/1033878082183208960\n",
      "------------------------------------------------------------\n",
      "@J23app @NIKEiD The KD11 is a joke... theyre making their new bball silhouettes too similar to previous models man\n",
      "380\n",
      "https://twitter.com/JJKickz/status/1034182749421101056\n",
      "------------------------------------------------------------\n",
      "#TheInfamousTioAL #JustFreakinLive Just arrived designed by me a late #Birthday gift to myself #NikeID #CustomKicks… https://t.co/cpQQSnt9Sn\n",
      "389\n",
      "https://twitter.com/InfamousTioAL/status/1034194089497874433\n",
      "------------------------------------------------------------\n",
      "@Howward34 No word on that style returning on NIKEiD. We do have other Blazer Mids that you can wear in here: https://t.co/giI6BB3XUZ\n",
      "408\n",
      "https://twitter.com/nikestore/status/1034207413446955010\n",
      "------------------------------------------------------------\n",
      "Ohh shit 🙂\n",
      "443\n",
      "https://twitter.com/vince23s/status/1034289781797212162\n",
      "------------------------------------------------------------\n",
      "@DAdeshiyan As it turns out, this option is not available however, we did design a similar pair for you with our NI… https://t.co/QEgcBWpbCs\n",
      "478\n",
      "https://twitter.com/nikestore/status/1034387071882997761\n",
      "------------------------------------------------------------\n",
      "NEW Nike ID Kobe XI 11 QS Mamba Day Black/Gold/Purple Sz 10 NikeID FTB Fade https://t.co/5jNQQBJ184\n",
      "485\n",
      "https://twitter.com/WhereYouWish/status/1034411071577182210\n",
      "------------------------------------------------------------\n",
      "ugly\n",
      "525\n",
      "https://twitter.com/melflorean/status/1034535863131222016\n",
      "------------------------------------------------------------\n",
      "$240 for @NIKEiD vapormaxes w awful colorway choices?! funny to ya girl\n",
      "599\n",
      "https://twitter.com/gardenof_/status/1034849065358385152\n"
     ]
    }
   ],
   "source": [
    "for n in range(len(tweets)):\n",
    "    tweet = tweets.loc[n]\n",
    "    \n",
    "    if tweet['sentiment'] == 'negative':\n",
    "        print('-'*60)\n",
    "        print(tweet['text'])\n",
    "        print(n)\n",
    "        print(tweet['url'])        "
   ]
  },
  {
   "cell_type": "markdown",
   "metadata": {},
   "source": [
    "#### Example of a positive Tweet"
   ]
  },
  {
   "cell_type": "code",
   "execution_count": 8,
   "metadata": {},
   "outputs": [
    {
     "name": "stdout",
     "output_type": "stream",
     "text": [
      "NIKEiD customs arrived! Best ones yet 😊 Bball # 10 &amp; born in '85 #LoveThese https://t.co/IlGKZPgwnG\n",
      "https://twitter.com/dino/status/1032986865605865472\n"
     ]
    }
   ],
   "source": [
    "n = 95\n",
    "print(tweets.loc[n]['text'])\n",
    "print(tweets.loc[n]['url'])"
   ]
  },
  {
   "cell_type": "markdown",
   "metadata": {},
   "source": [
    "#### Example of a negative Tweet"
   ]
  },
  {
   "cell_type": "code",
   "execution_count": 9,
   "metadata": {},
   "outputs": [
    {
     "name": "stdout",
     "output_type": "stream",
     "text": [
      "dunks not on nikeid no more 😤😤😤😤\n",
      "https://twitter.com/jawny/status/1033367723349299200\n"
     ]
    }
   ],
   "source": [
    "# Example of a negative Tweet\n",
    "n = 203\n",
    "print(tweets.loc[n]['text'])\n",
    "print(tweets.loc[n]['url'])"
   ]
  },
  {
   "cell_type": "markdown",
   "metadata": {},
   "source": [
    "## Visualize Tweet sentiments over time"
   ]
  },
  {
   "cell_type": "code",
   "execution_count": 10,
   "metadata": {},
   "outputs": [],
   "source": [
    "import matplotlib.pyplot as plt\n",
    "FS = 16"
   ]
  },
  {
   "cell_type": "code",
   "execution_count": 11,
   "metadata": {},
   "outputs": [
    {
     "data": {
      "text/plain": [
       "Index(['contributors', 'coordinates', 'created_at', 'display_text_range',\n",
       "       'entities', 'extended_entities', 'extended_tweet', 'favorite_count',\n",
       "       'favorited', 'filter_level', 'geo', 'id', 'id_str',\n",
       "       'in_reply_to_screen_name', 'in_reply_to_status_id',\n",
       "       'in_reply_to_status_id_str', 'in_reply_to_user_id',\n",
       "       'in_reply_to_user_id_str', 'is_quote_status', 'lang', 'place',\n",
       "       'possibly_sensitive', 'quote_count', 'quoted_status',\n",
       "       'quoted_status_id', 'quoted_status_id_str', 'quoted_status_permalink',\n",
       "       'reply_count', 'retweet_count', 'retweeted', 'retweeted_status',\n",
       "       'source', 'text', 'timestamp_ms', 'truncated', 'user', 'url',\n",
       "       'sentiment_score', 'sentiment'],\n",
       "      dtype='object')"
      ]
     },
     "execution_count": 11,
     "metadata": {},
     "output_type": "execute_result"
    }
   ],
   "source": [
    "tweets.columns"
   ]
  },
  {
   "cell_type": "code",
   "execution_count": 218,
   "metadata": {},
   "outputs": [],
   "source": [
    "plt.style.use('seaborn')"
   ]
  },
  {
   "cell_type": "code",
   "execution_count": 12,
   "metadata": {},
   "outputs": [
    {
     "data": {
      "text/plain": [
       "<matplotlib.axes._subplots.AxesSubplot at 0x117aee1d0>"
      ]
     },
     "execution_count": 12,
     "metadata": {},
     "output_type": "execute_result"
    },
    {
     "data": {
      "image/png": "[encoded data removed]",
      "text/plain": [
       "<Figure size 432x288 with 1 Axes>"
      ]
     },
     "metadata": {},
     "output_type": "display_data"
    }
   ],
   "source": [
    "tweets['sentiment_score'].hist(bins=10)"
   ]
  },
  {
   "cell_type": "code",
   "execution_count": 74,
   "metadata": {},
   "outputs": [],
   "source": [
    "def score2color(score):\n",
    "    \"\"\"Returns an RGB value based on the sentiment score\"\"\"        \n",
    "\n",
    "    if score == 0:\n",
    "        return [1, 1, 1]\n",
    "\n",
    "    if score > 0:\n",
    "        return [1-score, 1-score, score]\n",
    "    else:\n",
    "        score = abs(score)\n",
    "        return [score, 1-score, 1-score]"
   ]
  },
  {
   "cell_type": "code",
   "execution_count": 128,
   "metadata": {},
   "outputs": [
    {
     "data": {
      "text/plain": [
       "<matplotlib.collections.PathCollection at 0x11ad82978>"
      ]
     },
     "execution_count": 128,
     "metadata": {},
     "output_type": "execute_result"
    },
    {
     "data": {
      "image/png": "[encoded data removed]",
      "text/plain": [
       "<Figure size 432x288 with 1 Axes>"
      ]
     },
     "metadata": {},
     "output_type": "display_data"
    }
   ],
   "source": [
    "plt.scatter(x=np.arange(len(tweets)), y=tweets['sentiment_score'], c=tweets.sentiment_score, cmap='jet')"
   ]
  },
  {
   "cell_type": "code",
   "execution_count": 136,
   "metadata": {},
   "outputs": [
    {
     "data": {
      "image/png": "[encoded data removed]",
      "text/plain": [
       "<Figure size 720x576 with 1 Axes>"
      ]
     },
     "metadata": {},
     "output_type": "display_data"
    }
   ],
   "source": [
    "pos, neg = 95, 203\n",
    "\n",
    "fig, ax = plt.subplots(figsize=(10,8))\n",
    "\n",
    "mask = tweets['sentiment'] != 'neutral'\n",
    "x = tweets.loc[mask]['created_at']\n",
    "y = tweets.loc[mask]['sentiment_score']\n",
    "\n",
    "xlim = [736928.5238512151, 736936.4705122107]\n",
    "ms = 8\n",
    "\n",
    "# for i in range(len(x)):\n",
    "#     ax.plot(x.iloc[i], y.iloc[i], 'o', alpha=0.8, ms=ms, c=score2color(y.iloc[i]))\n",
    "ax.plot(x, y, 'bo', alpha=0.2, markersize=ms, lw=2)#, markerfacecolor='none')\n",
    "# ax.scatter(x, y)\n",
    "ax.plot(xlim, [0, 0], 'k-', linewidth=2, alpha=0.3)\n",
    "ax.plot(x[pos], y[pos], 'yo', markersize=ms, alpha=0.5)\n",
    "ax.plot(x[neg], y[neg], 'yo', markersize=ms, alpha=0.5)\n",
    "ax.set_xlim(xlim)\n",
    "plt.show()\n",
    "\n",
    "# plt.savefig('raw_sentiment.eps', type='eps', dpi=300)"
   ]
  },
  {
   "cell_type": "code",
   "execution_count": 137,
   "metadata": {},
   "outputs": [
    {
     "data": {
      "text/plain": [
       "(-1.1, 1.1)"
      ]
     },
     "execution_count": 137,
     "metadata": {},
     "output_type": "execute_result"
    }
   ],
   "source": [
    "\n",
    "ax.get_ylim()"
   ]
  },
  {
   "cell_type": "markdown",
   "metadata": {},
   "source": [
    "### Average sentiment per day of the week"
   ]
  },
  {
   "cell_type": "code",
   "execution_count": 14,
   "metadata": {},
   "outputs": [
    {
     "name": "stderr",
     "output_type": "stream",
     "text": [
      "/Users/john/Projects/TwitterTracker/lib/python3.6/site-packages/ipykernel_launcher.py:5: SettingWithCopyWarning: \n",
      "A value is trying to be set on a copy of a slice from a DataFrame.\n",
      "Try using .loc[row_indexer,col_indexer] = value instead\n",
      "\n",
      "See the caveats in the documentation: http://pandas.pydata.org/pandas-docs/stable/indexing.html#indexing-view-versus-copy\n",
      "  \"\"\"\n"
     ]
    }
   ],
   "source": [
    "no_neutral = tweets[tweets.sentiment != 'neutral']\n",
    "days = []\n",
    "for i in range(len(no_neutral)):\n",
    "    days.append(no_neutral.iloc[i]['created_at'].day)\n",
    "no_neutral['day'] = days"
   ]
  },
  {
   "cell_type": "code",
   "execution_count": 15,
   "metadata": {},
   "outputs": [],
   "source": [
    "score_by_day = no_neutral.groupby('day').mean()"
   ]
  },
  {
   "cell_type": "code",
   "execution_count": 16,
   "metadata": {},
   "outputs": [
    {
     "data": {
      "text/html": [
       "<div>\n",
       "<style scoped>\n",
       "    .dataframe tbody tr th:only-of-type {\n",
       "        vertical-align: middle;\n",
       "    }\n",
       "\n",
       "    .dataframe tbody tr th {\n",
       "        vertical-align: top;\n",
       "    }\n",
       "\n",
       "    .dataframe thead th {\n",
       "        text-align: right;\n",
       "    }\n",
       "</style>\n",
       "<table border=\"1\" class=\"dataframe\">\n",
       "  <thead>\n",
       "    <tr style=\"text-align: right;\">\n",
       "      <th></th>\n",
       "      <th>contributors</th>\n",
       "      <th>favorite_count</th>\n",
       "      <th>favorited</th>\n",
       "      <th>id</th>\n",
       "      <th>id_str</th>\n",
       "      <th>in_reply_to_status_id</th>\n",
       "      <th>in_reply_to_status_id_str</th>\n",
       "      <th>in_reply_to_user_id</th>\n",
       "      <th>in_reply_to_user_id_str</th>\n",
       "      <th>is_quote_status</th>\n",
       "      <th>possibly_sensitive</th>\n",
       "      <th>quote_count</th>\n",
       "      <th>quoted_status_id</th>\n",
       "      <th>quoted_status_id_str</th>\n",
       "      <th>reply_count</th>\n",
       "      <th>retweet_count</th>\n",
       "      <th>retweeted</th>\n",
       "      <th>truncated</th>\n",
       "      <th>sentiment_score</th>\n",
       "    </tr>\n",
       "    <tr>\n",
       "      <th>day</th>\n",
       "      <th></th>\n",
       "      <th></th>\n",
       "      <th></th>\n",
       "      <th></th>\n",
       "      <th></th>\n",
       "      <th></th>\n",
       "      <th></th>\n",
       "      <th></th>\n",
       "      <th></th>\n",
       "      <th></th>\n",
       "      <th></th>\n",
       "      <th></th>\n",
       "      <th></th>\n",
       "      <th></th>\n",
       "      <th></th>\n",
       "      <th></th>\n",
       "      <th></th>\n",
       "      <th></th>\n",
       "      <th></th>\n",
       "    </tr>\n",
       "  </thead>\n",
       "  <tbody>\n",
       "    <tr>\n",
       "      <th>23</th>\n",
       "      <td>NaN</td>\n",
       "      <td>0</td>\n",
       "      <td>0.0</td>\n",
       "      <td>1032684898883152896</td>\n",
       "      <td>1032684898883152896</td>\n",
       "      <td>1.032583e+18</td>\n",
       "      <td>1.032583e+18</td>\n",
       "      <td>4.056598e+07</td>\n",
       "      <td>4.056598e+07</td>\n",
       "      <td>0.000000</td>\n",
       "      <td>0.000000</td>\n",
       "      <td>0</td>\n",
       "      <td>NaN</td>\n",
       "      <td>NaN</td>\n",
       "      <td>0</td>\n",
       "      <td>0</td>\n",
       "      <td>0.0</td>\n",
       "      <td>0.250000</td>\n",
       "      <td>0.227395</td>\n",
       "    </tr>\n",
       "    <tr>\n",
       "      <th>24</th>\n",
       "      <td>NaN</td>\n",
       "      <td>0</td>\n",
       "      <td>0.0</td>\n",
       "      <td>1032899983233002752</td>\n",
       "      <td>1032899983233002752</td>\n",
       "      <td>1.031727e+18</td>\n",
       "      <td>1.031727e+18</td>\n",
       "      <td>8.032916e+08</td>\n",
       "      <td>8.032916e+08</td>\n",
       "      <td>0.016667</td>\n",
       "      <td>0.000000</td>\n",
       "      <td>0</td>\n",
       "      <td>1.032801e+18</td>\n",
       "      <td>1.032801e+18</td>\n",
       "      <td>0</td>\n",
       "      <td>0</td>\n",
       "      <td>0.0</td>\n",
       "      <td>0.150000</td>\n",
       "      <td>0.325992</td>\n",
       "    </tr>\n",
       "    <tr>\n",
       "      <th>25</th>\n",
       "      <td>NaN</td>\n",
       "      <td>0</td>\n",
       "      <td>0.0</td>\n",
       "      <td>1033301754428573056</td>\n",
       "      <td>1033301754428573056</td>\n",
       "      <td>1.033131e+18</td>\n",
       "      <td>1.033131e+18</td>\n",
       "      <td>6.202612e+08</td>\n",
       "      <td>6.202612e+08</td>\n",
       "      <td>0.000000</td>\n",
       "      <td>0.000000</td>\n",
       "      <td>0</td>\n",
       "      <td>NaN</td>\n",
       "      <td>NaN</td>\n",
       "      <td>0</td>\n",
       "      <td>0</td>\n",
       "      <td>0.0</td>\n",
       "      <td>0.166667</td>\n",
       "      <td>0.063194</td>\n",
       "    </tr>\n",
       "    <tr>\n",
       "      <th>26</th>\n",
       "      <td>NaN</td>\n",
       "      <td>0</td>\n",
       "      <td>0.0</td>\n",
       "      <td>1033769441261522944</td>\n",
       "      <td>1033769441261522944</td>\n",
       "      <td>1.033603e+18</td>\n",
       "      <td>1.033603e+18</td>\n",
       "      <td>6.065231e+08</td>\n",
       "      <td>6.065231e+08</td>\n",
       "      <td>0.000000</td>\n",
       "      <td>0.000000</td>\n",
       "      <td>0</td>\n",
       "      <td>NaN</td>\n",
       "      <td>NaN</td>\n",
       "      <td>0</td>\n",
       "      <td>0</td>\n",
       "      <td>0.0</td>\n",
       "      <td>0.166667</td>\n",
       "      <td>-0.001620</td>\n",
       "    </tr>\n",
       "    <tr>\n",
       "      <th>27</th>\n",
       "      <td>NaN</td>\n",
       "      <td>0</td>\n",
       "      <td>0.0</td>\n",
       "      <td>1034138856855896064</td>\n",
       "      <td>1034138856855896064</td>\n",
       "      <td>1.034065e+18</td>\n",
       "      <td>1.034065e+18</td>\n",
       "      <td>4.040498e+17</td>\n",
       "      <td>4.040498e+17</td>\n",
       "      <td>0.000000</td>\n",
       "      <td>0.044444</td>\n",
       "      <td>0</td>\n",
       "      <td>NaN</td>\n",
       "      <td>NaN</td>\n",
       "      <td>0</td>\n",
       "      <td>0</td>\n",
       "      <td>0.0</td>\n",
       "      <td>0.120690</td>\n",
       "      <td>0.397929</td>\n",
       "    </tr>\n",
       "    <tr>\n",
       "      <th>28</th>\n",
       "      <td>NaN</td>\n",
       "      <td>0</td>\n",
       "      <td>0.0</td>\n",
       "      <td>1034389097873158656</td>\n",
       "      <td>1034389097873158656</td>\n",
       "      <td>1.034203e+18</td>\n",
       "      <td>1.034203e+18</td>\n",
       "      <td>1.219586e+09</td>\n",
       "      <td>1.219586e+09</td>\n",
       "      <td>0.050847</td>\n",
       "      <td>0.022222</td>\n",
       "      <td>0</td>\n",
       "      <td>1.034375e+18</td>\n",
       "      <td>1.034375e+18</td>\n",
       "      <td>0</td>\n",
       "      <td>0</td>\n",
       "      <td>0.0</td>\n",
       "      <td>0.084746</td>\n",
       "      <td>0.350026</td>\n",
       "    </tr>\n",
       "    <tr>\n",
       "      <th>29</th>\n",
       "      <td>NaN</td>\n",
       "      <td>0</td>\n",
       "      <td>0.0</td>\n",
       "      <td>1034747385584074880</td>\n",
       "      <td>1034747385584074880</td>\n",
       "      <td>1.034770e+18</td>\n",
       "      <td>1.034770e+18</td>\n",
       "      <td>5.969991e+07</td>\n",
       "      <td>5.969991e+07</td>\n",
       "      <td>0.000000</td>\n",
       "      <td>0.000000</td>\n",
       "      <td>0</td>\n",
       "      <td>NaN</td>\n",
       "      <td>NaN</td>\n",
       "      <td>0</td>\n",
       "      <td>0</td>\n",
       "      <td>0.0</td>\n",
       "      <td>0.083333</td>\n",
       "      <td>0.294568</td>\n",
       "    </tr>\n",
       "  </tbody>\n",
       "</table>\n",
       "</div>"
      ],
      "text/plain": [
       "     contributors  favorite_count  favorited                   id  \\\n",
       "day                                                                 \n",
       "23            NaN               0        0.0  1032684898883152896   \n",
       "24            NaN               0        0.0  1032899983233002752   \n",
       "25            NaN               0        0.0  1033301754428573056   \n",
       "26            NaN               0        0.0  1033769441261522944   \n",
       "27            NaN               0        0.0  1034138856855896064   \n",
       "28            NaN               0        0.0  1034389097873158656   \n",
       "29            NaN               0        0.0  1034747385584074880   \n",
       "\n",
       "                  id_str  in_reply_to_status_id  in_reply_to_status_id_str  \\\n",
       "day                                                                          \n",
       "23   1032684898883152896           1.032583e+18               1.032583e+18   \n",
       "24   1032899983233002752           1.031727e+18               1.031727e+18   \n",
       "25   1033301754428573056           1.033131e+18               1.033131e+18   \n",
       "26   1033769441261522944           1.033603e+18               1.033603e+18   \n",
       "27   1034138856855896064           1.034065e+18               1.034065e+18   \n",
       "28   1034389097873158656           1.034203e+18               1.034203e+18   \n",
       "29   1034747385584074880           1.034770e+18               1.034770e+18   \n",
       "\n",
       "     in_reply_to_user_id  in_reply_to_user_id_str  is_quote_status  \\\n",
       "day                                                                  \n",
       "23          4.056598e+07             4.056598e+07         0.000000   \n",
       "24          8.032916e+08             8.032916e+08         0.016667   \n",
       "25          6.202612e+08             6.202612e+08         0.000000   \n",
       "26          6.065231e+08             6.065231e+08         0.000000   \n",
       "27          4.040498e+17             4.040498e+17         0.000000   \n",
       "28          1.219586e+09             1.219586e+09         0.050847   \n",
       "29          5.969991e+07             5.969991e+07         0.000000   \n",
       "\n",
       "     possibly_sensitive  quote_count  quoted_status_id  quoted_status_id_str  \\\n",
       "day                                                                            \n",
       "23             0.000000            0               NaN                   NaN   \n",
       "24             0.000000            0      1.032801e+18          1.032801e+18   \n",
       "25             0.000000            0               NaN                   NaN   \n",
       "26             0.000000            0               NaN                   NaN   \n",
       "27             0.044444            0               NaN                   NaN   \n",
       "28             0.022222            0      1.034375e+18          1.034375e+18   \n",
       "29             0.000000            0               NaN                   NaN   \n",
       "\n",
       "     reply_count  retweet_count  retweeted  truncated  sentiment_score  \n",
       "day                                                                     \n",
       "23             0              0        0.0   0.250000         0.227395  \n",
       "24             0              0        0.0   0.150000         0.325992  \n",
       "25             0              0        0.0   0.166667         0.063194  \n",
       "26             0              0        0.0   0.166667        -0.001620  \n",
       "27             0              0        0.0   0.120690         0.397929  \n",
       "28             0              0        0.0   0.084746         0.350026  \n",
       "29             0              0        0.0   0.083333         0.294568  "
      ]
     },
     "execution_count": 16,
     "metadata": {},
     "output_type": "execute_result"
    }
   ],
   "source": [
    "score_by_day"
   ]
  },
  {
   "cell_type": "code",
   "execution_count": 138,
   "metadata": {},
   "outputs": [
    {
     "data": {
      "image/png": "[encoded data removed]",
      "text/plain": [
       "<Figure size 720x576 with 1 Axes>"
      ]
     },
     "metadata": {},
     "output_type": "display_data"
    }
   ],
   "source": [
    "fig, ax = plt.subplots(figsize=(10,8))\n",
    "ax.bar(score_by_day.index, score_by_day['sentiment_score'])\n",
    "ax.set_xlabel(\"Day\", fontsize=FS)\n",
    "ax.set_ylabel(\"Sentiment\", fontsize=FS)\n",
    "# plt.show()\n",
    "ax.set_ylim([-1.1, 1.1])\n",
    "\n",
    "plt.savefig('average_sentiment.eps', type='eps', dpi=300)"
   ]
  },
  {
   "cell_type": "code",
   "execution_count": null,
   "metadata": {},
   "outputs": [],
   "source": [
    "\n",
    "\n",
    "\n",
    "\n",
    "\n",
    "\n",
    "\n",
    "\n",
    "\n",
    "\n",
    "\n",
    "\n",
    "\n",
    "\n",
    "\n",
    "\n",
    "\n"
   ]
  }
 ],
 "metadata": {
  "kernelspec": {
   "display_name": "Python 3",
   "language": "python",
   "name": "python3"
  },
  "language_info": {
   "codemirror_mode": {
    "name": "ipython",
    "version": 3
   },
   "file_extension": ".py",
   "mimetype": "text/x-python",
   "name": "python",
   "nbconvert_exporter": "python",
   "pygments_lexer": "ipython3",
   "version": "3.6.5"
  }
 },
 "nbformat": 4,
 "nbformat_minor": 2
}
